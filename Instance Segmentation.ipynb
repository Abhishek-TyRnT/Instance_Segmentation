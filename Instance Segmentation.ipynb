{
 "cells": [
  {
   "cell_type": "code",
   "execution_count": 9,
   "metadata": {},
   "outputs": [],
   "source": [
    "import os\n",
    "os.chdir('C:/Users/Abhilash/PycharmProjects/Instance segmentation')\n",
    "os.environ['TF_GPU_THREAD_MODE'] = 'gpu_private'"
   ]
  },
  {
   "cell_type": "markdown",
   "metadata": {},
   "source": [
    "import Libraries "
   ]
  },
  {
   "cell_type": "code",
   "execution_count": 2,
   "metadata": {},
   "outputs": [],
   "source": [
    "import tensorflow as tf\n",
    "import numpy as np\n",
    "from DataPipeline import get_dataset\n",
    "from model import DeepMask\n",
    "from Loss  import Joint_loss\n",
    "from train import train\n",
    "from tensorflow.keras.optimizers import SGD\n",
    "from tensorflow.keras.regularizers import L1L2\n",
    "from tensorflow.train import Checkpoint\n",
    "from datetime import datetime\n",
    "physical_devices = tf.config.list_physical_devices('GPU') \n",
    "try:\n",
    "  tf.config.experimental.set_memory_growth(physical_devices[0], True)\n",
    "except:\n",
    "  # Invalid device or cannot modify virtual devices once initialized.\n",
    "  pass"
   ]
  },
  {
   "cell_type": "markdown",
   "metadata": {},
   "source": [
    "creating objects of models,loss and optimizer"
   ]
  },
  {
   "cell_type": "code",
   "execution_count": 3,
   "metadata": {},
   "outputs": [],
   "source": [
    "input_shape = (224,224,3)\n",
    "output_shape = (224,224)\n",
    "kernel_regularizer = L1L2(l2 = 0.00005)\n",
    "model = DeepMask(input_shape,output_shape, kernel_regularizer = kernel_regularizer)\n",
    "sgd   = SGD(learning_rate = 0.001,momentum = 0.9)\n",
    "loss_func  = Joint_loss()"
   ]
  },
  {
   "cell_type": "markdown",
   "metadata": {},
   "source": [
    "getting dataset"
   ]
  },
  {
   "cell_type": "code",
   "execution_count": 4,
   "metadata": {},
   "outputs": [],
   "source": [
    "Batch_size = 10\n",
    "datadir   = 'F:/datasets/COCO 2017'\n",
    "train_dataset = get_dataset(datadir,'train',output_shape)\n",
    "batched_train_dataset = train_dataset.shuffle(10).repeat().batch(Batch_size)\n",
    "val_dataset = get_dataset(datadir,'val',output_shape,use_aug = False)\n",
    "batched_val_dataset = train_dataset.shuffle(10).repeat().batch(Batch_size)"
   ]
  },
  {
   "cell_type": "code",
   "execution_count": 5,
   "metadata": {},
   "outputs": [
    {
     "data": {
      "text/plain": [
       "<tensorflow.python.training.tracking.util.CheckpointLoadStatus at 0x1c5fc3b1e88>"
      ]
     },
     "execution_count": 5,
     "metadata": {},
     "output_type": "execute_result"
    }
   ],
   "source": [
    "checkpoint = Checkpoint(model = model,optimizer = sgd, epoch = tf.Variable(0))\n",
    "checkpoint_dir = 'F:/datasets/COCO 2017/checkpoint'\n",
    "checkpoint_prefix = os.path.join(checkpoint_dir,'ckpt')\n",
    "checkpoint.restore(tf.train.latest_checkpoint(checkpoint_dir))"
   ]
  },
  {
   "cell_type": "code",
   "execution_count": 6,
   "metadata": {},
   "outputs": [],
   "source": [
    "current_time = datetime.now().strftime(\"%Y%m%d-%H%M%S\")\n",
    "train_log_dir = 'logs/stats/' + current_time + '/train'\n",
    "test_log_dir = 'logs/stats/' + current_time + '/test'\n",
    "train_summary_writer = tf.summary.create_file_writer(train_log_dir)\n",
    "test_summary_writer = tf.summary.create_file_writer(test_log_dir)"
   ]
  },
  {
   "cell_type": "code",
   "execution_count": null,
   "metadata": {},
   "outputs": [],
   "source": []
  },
  {
   "cell_type": "code",
   "execution_count": 7,
   "metadata": {},
   "outputs": [],
   "source": [
    "import tensorflow as tf\n",
    "import time\n",
    "import sys\n",
    "def get_data_string(steps,current_step,loss, current_time):\n",
    "   total_bar = 50\n",
    "   increase_step = int(steps/total_bar + 0.5)\n",
    "   for i in range(0,current_step+1):\n",
    "      if i%increase_step == 0:\n",
    "        dashes = int(i/increase_step + 0.5)\n",
    "        dots   = total_bar - dashes\n",
    "        string = '='*( dashes - 1)\n",
    "        if not i == steps and not i == 0:\n",
    "          string += '>'\n",
    "        string += '.'*(dots - 1)\n",
    "\n",
    "   data_String = '{0}/{1} :'.format(current_step,steps) + string\n",
    "   data_String += ' Loss: ' + str(loss) + ' Time: ' + str(round(current_time,3))\n",
    "   return data_String\n",
    "\n",
    "@tf.function\n",
    "def train_one_step(inp, y_true,loss_func,optimizer,apply_regularization = False):\n",
    "\n",
    "    with tf.GradientTape() as tape:\n",
    "        y_pred = model(inp)\n",
    "        loss   = loss_func(y_true, y_pred)\n",
    "        if apply_regularization:\n",
    "            loss += tf.reduce_sum(model.losses)\n",
    "        grads  = tape.gradient(loss,model.trainable_variables)\n",
    "        optimizer.apply_gradients(zip(grads,model.trainable_variables))\n",
    "\n",
    "    return loss\n",
    "\n",
    "\n",
    "def train(train_dataset, val_dataset, epochs, steps_per_epoch, val_steps, checkpoint, checkpoint_prefix, loss_func, optimizer,train_writer,test_writer, save_after = None,apply_regularization = False):\n",
    "    epoch = checkpoint.epoch.numpy() \n",
    "\n",
    "    while epoch < epochs:\n",
    "        tf.profiler.experimental.start('profile-logs')\n",
    "        step  = 0\n",
    "        avg_loss = 0.\n",
    "        print('Epoch :' + str(epoch))\n",
    "        now = time.time()\n",
    "        for img,mask,score in train_dataset.take(steps_per_epoch):you\n",
    "            y_true = {'mask':mask, 'score':score}\n",
    "            loss = train_one_step(img,y_true,loss_func,optimizer,apply_regularization)\n",
    "            loss       = float(loss)\n",
    "            avg_loss   = (avg_loss*step + loss)/(step + 1)\n",
    "            \n",
    "            string = get_data_string(steps_per_epoch, step, avg_loss, time.time() - now)\n",
    "            sys.stdout.write('\\r' + string)\n",
    "            time.sleep(0.01)\n",
    "            step += 1\n",
    "        step = 0\n",
    "        val_avg_loss = 0.\n",
    "        if tf.math.is_nan(avg_loss):\n",
    "            with train_writer.as_default():\n",
    "                tf.summary.image('image',img,epoch,max_outputs =10)\n",
    "            break\n",
    "        epoch += 1\n",
    "        checkpoint.epoch.assign_add(1)    \n",
    "        for img, mask, score in val_dataset.take(val_steps):\n",
    "            y_true = {'mask': mask, 'score': score}\n",
    "            y_pred = model(img)\n",
    "            loss   = loss_func(y_true,y_pred)\n",
    "            loss   = float(loss)\n",
    "            val_avg_loss = (val_avg_loss * step + loss) / (step + 1)\n",
    "            step += 1\n",
    "        string += ' Val Loss: ' + str(val_avg_loss)\n",
    "        after   = time.time()\n",
    "        string += ' Time Taken: {0}'.format(round(after - now,3))\n",
    "        sys.stdout.write('\\r' + string)\n",
    "        print()\n",
    "        print(tf.config.experimental.get_memory_usage('GPU:0'))\n",
    "        \n",
    "        with train_writer.as_default():\n",
    "          tf.summary.scalar('Loss',avg_loss,epoch)\n",
    "        with test_writer.as_default():\n",
    "          tf.summary.scalar('Val_Loss',val_avg_loss,epoch)\n",
    "        if save_after is not None:\n",
    "            if epoch%save_after == 0:\n",
    "                checkpoint.save(checkpoint_prefix)\n",
    "        tf.profiler.experimental.stop()\n",
    "\n",
    "        \n",
    "    return model"
   ]
  },
  {
   "cell_type": "code",
   "execution_count": 11,
   "metadata": {
    "scrolled": true
   },
   "outputs": [
    {
     "name": "stdout",
     "output_type": "stream",
     "text": [
      "Epoch :10\n",
      "4999/5000 :================================================> Loss: 15.143320289659489 Time: 2299.958 Val Loss: 19.557571153640744 Time Taken: 2338.428\n",
      "1076711680\n",
      "Epoch :11\n",
      "136/5000 :>................................................ Loss: 19.475798027358792 Time: 87.948"
     ]
    },
    {
     "ename": "KeyboardInterrupt",
     "evalue": "",
     "output_type": "error",
     "traceback": [
      "\u001b[1;31m---------------------------------------------------------------------------\u001b[0m",
      "\u001b[1;31mKeyboardInterrupt\u001b[0m                         Traceback (most recent call last)",
      "\u001b[1;32m<ipython-input-11-41b80badf182>\u001b[0m in \u001b[0;36m<module>\u001b[1;34m\u001b[0m\n\u001b[0;32m     11\u001b[0m               \u001b[0mloss_func\u001b[0m\u001b[1;33m,\u001b[0m\u001b[0msgd\u001b[0m\u001b[1;33m,\u001b[0m\u001b[0mtrain_summary_writer\u001b[0m\u001b[1;33m,\u001b[0m\u001b[1;33m\u001b[0m\u001b[1;33m\u001b[0m\u001b[0m\n\u001b[0;32m     12\u001b[0m               \u001b[0mtest_summary_writer\u001b[0m\u001b[1;33m,\u001b[0m\u001b[0msave_after\u001b[0m \u001b[1;33m=\u001b[0m \u001b[1;36m10\u001b[0m\u001b[1;33m,\u001b[0m\u001b[1;33m\u001b[0m\u001b[1;33m\u001b[0m\u001b[0m\n\u001b[1;32m---> 13\u001b[1;33m              \u001b[0mapply_regularization\u001b[0m \u001b[1;33m=\u001b[0m \u001b[1;32mTrue\u001b[0m\u001b[1;33m\u001b[0m\u001b[1;33m\u001b[0m\u001b[0m\n\u001b[0m\u001b[0;32m     14\u001b[0m              )\n",
      "\u001b[1;32m<ipython-input-7-2a078810a5a5>\u001b[0m in \u001b[0;36mtrain\u001b[1;34m(train_dataset, val_dataset, epochs, steps_per_epoch, val_steps, checkpoint, checkpoint_prefix, loss_func, optimizer, train_writer, test_writer, save_after, apply_regularization)\u001b[0m\n\u001b[0;32m     41\u001b[0m         \u001b[0mprint\u001b[0m\u001b[1;33m(\u001b[0m\u001b[1;34m'Epoch :'\u001b[0m \u001b[1;33m+\u001b[0m \u001b[0mstr\u001b[0m\u001b[1;33m(\u001b[0m\u001b[0mepoch\u001b[0m\u001b[1;33m)\u001b[0m\u001b[1;33m)\u001b[0m\u001b[1;33m\u001b[0m\u001b[1;33m\u001b[0m\u001b[0m\n\u001b[0;32m     42\u001b[0m         \u001b[0mnow\u001b[0m \u001b[1;33m=\u001b[0m \u001b[0mtime\u001b[0m\u001b[1;33m.\u001b[0m\u001b[0mtime\u001b[0m\u001b[1;33m(\u001b[0m\u001b[1;33m)\u001b[0m\u001b[1;33m\u001b[0m\u001b[1;33m\u001b[0m\u001b[0m\n\u001b[1;32m---> 43\u001b[1;33m         \u001b[1;32mfor\u001b[0m \u001b[0mimg\u001b[0m\u001b[1;33m,\u001b[0m\u001b[0mmask\u001b[0m\u001b[1;33m,\u001b[0m\u001b[0mscore\u001b[0m \u001b[1;32min\u001b[0m \u001b[0mtrain_dataset\u001b[0m\u001b[1;33m.\u001b[0m\u001b[0mtake\u001b[0m\u001b[1;33m(\u001b[0m\u001b[0msteps_per_epoch\u001b[0m\u001b[1;33m)\u001b[0m\u001b[1;33m:\u001b[0m\u001b[1;33m\u001b[0m\u001b[1;33m\u001b[0m\u001b[0m\n\u001b[0m\u001b[0;32m     44\u001b[0m             \u001b[0my_true\u001b[0m \u001b[1;33m=\u001b[0m \u001b[1;33m{\u001b[0m\u001b[1;34m'mask'\u001b[0m\u001b[1;33m:\u001b[0m\u001b[0mmask\u001b[0m\u001b[1;33m,\u001b[0m \u001b[1;34m'score'\u001b[0m\u001b[1;33m:\u001b[0m\u001b[0mscore\u001b[0m\u001b[1;33m}\u001b[0m\u001b[1;33m\u001b[0m\u001b[1;33m\u001b[0m\u001b[0m\n\u001b[0;32m     45\u001b[0m             \u001b[0mloss\u001b[0m \u001b[1;33m=\u001b[0m \u001b[0mtrain_one_step\u001b[0m\u001b[1;33m(\u001b[0m\u001b[0mimg\u001b[0m\u001b[1;33m,\u001b[0m\u001b[0my_true\u001b[0m\u001b[1;33m,\u001b[0m\u001b[0mloss_func\u001b[0m\u001b[1;33m,\u001b[0m\u001b[0moptimizer\u001b[0m\u001b[1;33m,\u001b[0m\u001b[0mapply_regularization\u001b[0m\u001b[1;33m)\u001b[0m\u001b[1;33m\u001b[0m\u001b[1;33m\u001b[0m\u001b[0m\n",
      "\u001b[1;32m~\\anaconda3\\envs\\tf\\lib\\site-packages\\tensorflow\\python\\data\\ops\\iterator_ops.py\u001b[0m in \u001b[0;36m__next__\u001b[1;34m(self)\u001b[0m\n\u001b[0;32m    745\u001b[0m   \u001b[1;32mdef\u001b[0m \u001b[0m__next__\u001b[0m\u001b[1;33m(\u001b[0m\u001b[0mself\u001b[0m\u001b[1;33m)\u001b[0m\u001b[1;33m:\u001b[0m\u001b[1;33m\u001b[0m\u001b[1;33m\u001b[0m\u001b[0m\n\u001b[0;32m    746\u001b[0m     \u001b[1;32mtry\u001b[0m\u001b[1;33m:\u001b[0m\u001b[1;33m\u001b[0m\u001b[1;33m\u001b[0m\u001b[0m\n\u001b[1;32m--> 747\u001b[1;33m       \u001b[1;32mreturn\u001b[0m \u001b[0mself\u001b[0m\u001b[1;33m.\u001b[0m\u001b[0m_next_internal\u001b[0m\u001b[1;33m(\u001b[0m\u001b[1;33m)\u001b[0m\u001b[1;33m\u001b[0m\u001b[1;33m\u001b[0m\u001b[0m\n\u001b[0m\u001b[0;32m    748\u001b[0m     \u001b[1;32mexcept\u001b[0m \u001b[0merrors\u001b[0m\u001b[1;33m.\u001b[0m\u001b[0mOutOfRangeError\u001b[0m\u001b[1;33m:\u001b[0m\u001b[1;33m\u001b[0m\u001b[1;33m\u001b[0m\u001b[0m\n\u001b[0;32m    749\u001b[0m       \u001b[1;32mraise\u001b[0m \u001b[0mStopIteration\u001b[0m\u001b[1;33m\u001b[0m\u001b[1;33m\u001b[0m\u001b[0m\n",
      "\u001b[1;32m~\\anaconda3\\envs\\tf\\lib\\site-packages\\tensorflow\\python\\data\\ops\\iterator_ops.py\u001b[0m in \u001b[0;36m_next_internal\u001b[1;34m(self)\u001b[0m\n\u001b[0;32m    731\u001b[0m           \u001b[0mself\u001b[0m\u001b[1;33m.\u001b[0m\u001b[0m_iterator_resource\u001b[0m\u001b[1;33m,\u001b[0m\u001b[1;33m\u001b[0m\u001b[1;33m\u001b[0m\u001b[0m\n\u001b[0;32m    732\u001b[0m           \u001b[0moutput_types\u001b[0m\u001b[1;33m=\u001b[0m\u001b[0mself\u001b[0m\u001b[1;33m.\u001b[0m\u001b[0m_flat_output_types\u001b[0m\u001b[1;33m,\u001b[0m\u001b[1;33m\u001b[0m\u001b[1;33m\u001b[0m\u001b[0m\n\u001b[1;32m--> 733\u001b[1;33m           output_shapes=self._flat_output_shapes)\n\u001b[0m\u001b[0;32m    734\u001b[0m \u001b[1;33m\u001b[0m\u001b[0m\n\u001b[0;32m    735\u001b[0m       \u001b[1;32mtry\u001b[0m\u001b[1;33m:\u001b[0m\u001b[1;33m\u001b[0m\u001b[1;33m\u001b[0m\u001b[0m\n",
      "\u001b[1;32m~\\anaconda3\\envs\\tf\\lib\\site-packages\\tensorflow\\python\\ops\\gen_dataset_ops.py\u001b[0m in \u001b[0;36miterator_get_next\u001b[1;34m(iterator, output_types, output_shapes, name)\u001b[0m\n\u001b[0;32m   2573\u001b[0m       _result = pywrap_tfe.TFE_Py_FastPathExecute(\n\u001b[0;32m   2574\u001b[0m         \u001b[0m_ctx\u001b[0m\u001b[1;33m,\u001b[0m \u001b[1;34m\"IteratorGetNext\"\u001b[0m\u001b[1;33m,\u001b[0m \u001b[0mname\u001b[0m\u001b[1;33m,\u001b[0m \u001b[0miterator\u001b[0m\u001b[1;33m,\u001b[0m \u001b[1;34m\"output_types\"\u001b[0m\u001b[1;33m,\u001b[0m \u001b[0moutput_types\u001b[0m\u001b[1;33m,\u001b[0m\u001b[1;33m\u001b[0m\u001b[1;33m\u001b[0m\u001b[0m\n\u001b[1;32m-> 2575\u001b[1;33m         \"output_shapes\", output_shapes)\n\u001b[0m\u001b[0;32m   2576\u001b[0m       \u001b[1;32mreturn\u001b[0m \u001b[0m_result\u001b[0m\u001b[1;33m\u001b[0m\u001b[1;33m\u001b[0m\u001b[0m\n\u001b[0;32m   2577\u001b[0m     \u001b[1;32mexcept\u001b[0m \u001b[0m_core\u001b[0m\u001b[1;33m.\u001b[0m\u001b[0m_NotOkStatusException\u001b[0m \u001b[1;32mas\u001b[0m \u001b[0me\u001b[0m\u001b[1;33m:\u001b[0m\u001b[1;33m\u001b[0m\u001b[1;33m\u001b[0m\u001b[0m\n",
      "\u001b[1;31mKeyboardInterrupt\u001b[0m: "
     ]
    }
   ],
   "source": [
    "epochs = 12\n",
    "steps_per_epoch = 5000\n",
    "val_steps = 50\n",
    "#tf.profiler.experimental.server.start(6009)\n",
    "#tf.profiler.experimental.client.trace('grpc://localhost:6009','logs', 20000)\n",
    "model = train(batched_train_dataset,\n",
    "              batched_val_dataset,\n",
    "              epochs,steps_per_epoch,\n",
    "              val_steps,checkpoint,\n",
    "              checkpoint_prefix,\n",
    "              loss_func,sgd,train_summary_writer,\n",
    "              test_summary_writer,save_after = 10,\n",
    "             apply_regularization = True\n",
    "             )"
   ]
  },
  {
   "cell_type": "code",
   "execution_count": 12,
   "metadata": {},
   "outputs": [
    {
     "data": {
      "text/plain": [
       "'F:/datasets/COCO 2017/checkpoint\\\\ckpt-7'"
      ]
     },
     "execution_count": 12,
     "metadata": {},
     "output_type": "execute_result"
    }
   ],
   "source": [
    "checkpoint.save(checkpoint_prefix)"
   ]
  },
  {
   "cell_type": "code",
   "execution_count": null,
   "metadata": {},
   "outputs": [],
   "source": [
    "masks = output['mask']"
   ]
  },
  {
   "cell_type": "code",
   "execution_count": null,
   "metadata": {},
   "outputs": [],
   "source": [
    "import matplotlib.pyplot as plt\n",
    "for image,mask in zip(img,masks):\n",
    "    plt.subplot(1,2,1)\n",
    "    plt.imshow(image)\n",
    "    mask = np.where(mask<0.1 ,0.,1.0)\n",
    "    plt.subplot(1,2,2)\n",
    "    plt.imshow(mask,cmap = 'gray')\n",
    "    plt.show()\n",
    "    "
   ]
  },
  {
   "cell_type": "code",
   "execution_count": null,
   "metadata": {},
   "outputs": [],
   "source": [
    "tf.summary.image()"
   ]
  }
 ],
 "metadata": {
  "kernelspec": {
   "display_name": "Python [conda env:tf] *",
   "language": "python",
   "name": "conda-env-tf-py"
  },
  "language_info": {
   "codemirror_mode": {
    "name": "ipython",
    "version": 3
   },
   "file_extension": ".py",
   "mimetype": "text/x-python",
   "name": "python",
   "nbconvert_exporter": "python",
   "pygments_lexer": "ipython3",
   "version": "3.7.9"
  }
 },
 "nbformat": 4,
 "nbformat_minor": 4
}
